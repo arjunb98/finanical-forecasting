{
 "cells": [
  {
   "cell_type": "code",
   "execution_count": 1,
   "metadata": {},
   "outputs": [
    {
     "name": "stderr",
     "output_type": "stream",
     "text": [
      "C:\\Users\\Owner\\Anaconda3\\lib\\site-packages\\statsmodels\\compat\\pandas.py:56: FutureWarning: The pandas.core.datetools module is deprecated and will be removed in a future version. Please use the pandas.tseries module instead.\n",
      "  from pandas.core import datetools\n"
     ]
    }
   ],
   "source": [
    "import pandas as pd\n",
    "import matplotlib.pyplot as plt\n",
    "from statsmodels.tsa.arima_model import ARIMA\n",
    "from sklearn.metrics import mean_squared_error\n",
    "from math import sqrt\n",
    "import numpy as np"
   ]
  },
  {
   "cell_type": "code",
   "execution_count": 2,
   "metadata": {},
   "outputs": [],
   "source": [
    "def predict(coef, history):\n",
    "    yhat = 0.0\n",
    "    for i in range(1, len(coef)+1):\n",
    "        yhat += coef[i-1]*history[-i]\n",
    "    return yhat\n",
    "\n",
    "def difference(data):\n",
    "    diff = []\n",
    "    for i in range(1, len(data)):\n",
    "        val = data[i] - data[i-1]\n",
    "        diff.append(val)\n",
    "    return np.array(diff)"
   ]
  },
  {
   "cell_type": "code",
   "execution_count": 7,
   "metadata": {},
   "outputs": [
    {
     "name": "stderr",
     "output_type": "stream",
     "text": [
      "C:\\Users\\Owner\\Anaconda3\\lib\\site-packages\\pandas\\core\\series.py:2890: FutureWarning: from_csv is deprecated. Please use read_csv(...) instead. Note that some of the default arguments are different, so please refer to the documentation for from_csv when changing your function calls\n",
      "  infer_datetime_format=infer_datetime_format)\n"
     ]
    },
    {
     "data": {
      "image/png": "[encoded data removed]",
      "text/plain": [
       "<matplotlib.figure.Figure at 0x296aec78a20>"
      ]
     },
     "metadata": {},
     "output_type": "display_data"
    },
    {
     "name": "stderr",
     "output_type": "stream",
     "text": [
      "C:\\Users\\Owner\\Anaconda3\\lib\\site-packages\\statsmodels\\tsa\\kalmanf\\kalmanfilter.py:646: FutureWarning: Conversion of the second argument of issubdtype from `float` to `np.floating` is deprecated. In future, it will be treated as `np.float64 == np.dtype(float).type`.\n",
      "  if issubdtype(paramsdtype, float):\n",
      "C:\\Users\\Owner\\Anaconda3\\lib\\site-packages\\statsmodels\\tsa\\kalmanf\\kalmanfilter.py:650: FutureWarning: Conversion of the second argument of issubdtype from `complex` to `np.complexfloating` is deprecated. In future, it will be treated as `np.complex128 == np.dtype(complex).type`.\n",
      "  elif issubdtype(paramsdtype, complex):\n",
      "C:\\Users\\Owner\\Anaconda3\\lib\\site-packages\\statsmodels\\tsa\\kalmanf\\kalmanfilter.py:577: FutureWarning: Conversion of the second argument of issubdtype from `float` to `np.floating` is deprecated. In future, it will be treated as `np.float64 == np.dtype(float).type`.\n",
      "  if issubdtype(paramsdtype, float):\n"
     ]
    },
    {
     "name": "stdout",
     "output_type": "stream",
     "text": [
      ">predicted=63.411, expected=63.020\n",
      ">predicted=63.628, expected=62.891\n",
      ">predicted=63.349, expected=63.497\n",
      ">predicted=63.376, expected=62.960\n",
      ">predicted=63.224, expected=61.649\n",
      ">predicted=62.832, expected=61.687\n",
      ">predicted=62.643, expected=61.262\n",
      ">predicted=62.270, expected=61.308\n",
      ">predicted=62.025, expected=61.164\n",
      ">predicted=61.704, expected=61.391\n",
      ">predicted=61.402, expected=61.853\n",
      ">predicted=61.479, expected=61.603\n",
      ">predicted=61.413, expected=62.088\n",
      ">predicted=61.601, expected=61.550\n",
      ">predicted=61.599, expected=60.595\n",
      ">predicted=61.446, expected=60.247\n",
      ">predicted=61.330, expected=60.504\n",
      ">predicted=61.075, expected=61.378\n",
      ">predicted=61.079, expected=61.074\n",
      ">predicted=60.893, expected=61.781\n",
      ">predicted=60.979, expected=61.105\n",
      ">predicted=61.015, expected=61.598\n",
      ">predicted=61.222, expected=61.416\n",
      ">predicted=61.423, expected=61.462\n",
      ">predicted=61.360, expected=61.310\n",
      ">predicted=61.477, expected=61.150\n",
      ">predicted=61.312, expected=61.796\n",
      ">predicted=61.490, expected=60.922\n",
      ">predicted=61.300, expected=60.846\n",
      ">predicted=61.238, expected=61.249\n",
      ">predicted=61.260, expected=60.953\n",
      ">predicted=61.090, expected=60.694\n",
      ">predicted=61.084, expected=60.725\n",
      ">predicted=60.917, expected=60.740\n",
      ">predicted=60.847, expected=60.770\n",
      ">predicted=60.854, expected=60.991\n",
      ">predicted=60.830, expected=61.636\n",
      ">predicted=60.955, expected=61.545\n",
      ">predicted=61.067, expected=61.963\n",
      ">predicted=61.299, expected=62.236\n",
      ">predicted=61.557, expected=62.958\n",
      ">predicted=61.900, expected=63.338\n",
      ">predicted=62.318, expected=62.950\n",
      ">predicted=62.482, expected=63.277\n",
      ">predicted=62.821, expected=63.490\n",
      ">predicted=63.049, expected=63.665\n",
      ">predicted=63.262, expected=64.151\n",
      ">predicted=63.523, expected=63.201\n",
      ">predicted=63.416, expected=63.323\n",
      ">predicted=63.520, expected=63.110\n",
      ">predicted=63.497, expected=62.616\n",
      ">predicted=63.272, expected=63.148\n",
      ">predicted=63.309, expected=63.201\n",
      ">predicted=63.093, expected=62.647\n",
      ">predicted=62.970, expected=63.095\n",
      ">predicted=63.021, expected=63.391\n",
      ">predicted=63.019, expected=63.938\n",
      ">predicted=63.238, expected=63.665\n",
      ">predicted=63.344, expected=62.654\n",
      ">predicted=63.186, expected=62.366\n",
      ">predicted=63.183, expected=61.652\n",
      ">predicted=62.888, expected=61.340\n",
      ">predicted=62.554, expected=62.274\n",
      ">predicted=62.381, expected=62.016\n",
      ">predicted=62.023, expected=63.285\n",
      ">predicted=62.216, expected=62.183\n",
      ">predicted=62.127, expected=62.305\n",
      ">predicted=62.199, expected=62.031\n",
      ">predicted=62.394, expected=62.373\n",
      ">predicted=62.304, expected=62.799\n",
      ">predicted=62.549, expected=63.315\n",
      ">predicted=62.511, expected=63.718\n",
      ">predicted=62.796, expected=62.548\n",
      ">predicted=62.756, expected=62.464\n",
      ">predicted=62.868, expected=62.609\n",
      ">predicted=62.918, expected=62.821\n",
      ">predicted=62.868, expected=62.616\n",
      ">predicted=62.815, expected=63.262\n",
      ">predicted=62.754, expected=63.193\n",
      ">predicted=62.832, expected=63.453\n"
     ]
    },
    {
     "name": "stderr",
     "output_type": "stream",
     "text": [
      "C:\\Users\\Owner\\Anaconda3\\lib\\site-packages\\statsmodels\\base\\model.py:496: ConvergenceWarning: Maximum Likelihood optimization failed to converge. Check mle_retvals\n",
      "  \"Check mle_retvals\", ConvergenceWarning)\n"
     ]
    },
    {
     "name": "stdout",
     "output_type": "stream",
     "text": [
      ">predicted=62.989, expected=63.201\n",
      ">predicted=63.111, expected=62.865\n",
      ">predicted=63.063, expected=62.812\n",
      ">predicted=63.139, expected=63.193\n",
      ">predicted=63.120, expected=62.637\n",
      ">predicted=62.999, expected=61.958\n",
      ">predicted=62.753, expected=61.493\n",
      ">predicted=62.487, expected=61.204\n",
      ">predicted=62.172, expected=61.005\n",
      ">predicted=61.895, expected=60.860\n",
      ">predicted=61.520, expected=60.822\n",
      ">predicted=61.223, expected=61.097\n",
      ">predicted=61.092, expected=61.562\n",
      ">predicted=61.113, expected=61.112\n",
      ">predicted=61.062, expected=60.914\n",
      ">predicted=61.061, expected=61.516\n",
      ">predicted=61.206, expected=60.624\n",
      ">predicted=61.074, expected=60.273\n",
      ">predicted=60.985, expected=60.807\n",
      ">predicted=60.925, expected=60.342\n",
      ">predicted=60.679, expected=58.726\n",
      ">predicted=60.321, expected=59.183\n",
      ">predicted=60.038, expected=58.718\n",
      ">predicted=59.627, expected=58.650\n",
      ">predicted=59.351, expected=59.244\n",
      ">predicted=59.231, expected=59.892\n",
      ">predicted=59.068, expected=59.427\n",
      ">predicted=59.178, expected=59.214\n",
      ">predicted=59.204, expected=59.458\n",
      ">predicted=59.332, expected=59.694\n",
      ">predicted=59.463, expected=58.848\n",
      ">predicted=59.392, expected=58.779\n",
      ">predicted=59.246, expected=58.817\n",
      ">predicted=59.139, expected=58.421\n",
      ">predicted=58.947, expected=58.367\n",
      ">predicted=58.838, expected=59.153\n",
      ">predicted=58.767, expected=58.566\n",
      ">predicted=58.645, expected=59.481\n",
      ">predicted=58.846, expected=59.290\n",
      ">predicted=58.906, expected=59.534\n",
      ">predicted=59.029, expected=58.261\n",
      ">predicted=59.048, expected=58.451\n",
      ">predicted=58.900, expected=58.299\n",
      ">predicted=58.897, expected=57.544\n",
      ">predicted=58.475, expected=56.599\n",
      ">predicted=58.116, expected=56.088\n",
      ">predicted=57.506, expected=56.187\n",
      ">predicted=57.173, expected=56.614\n",
      ">predicted=56.891, expected=57.994\n",
      ">predicted=56.904, expected=57.544\n",
      ">predicted=56.842, expected=57.071\n",
      ">predicted=56.907, expected=57.933\n",
      ">predicted=57.300, expected=57.857\n",
      ">predicted=57.446, expected=57.811\n",
      ">predicted=57.693, expected=58.055\n",
      ">predicted=57.769, expected=58.672\n",
      ">predicted=57.899, expected=59.015\n",
      ">predicted=58.240, expected=58.047\n",
      ">predicted=58.214, expected=58.185\n",
      ">predicted=58.318, expected=58.192\n",
      ">predicted=58.359, expected=57.872\n",
      ">predicted=58.270, expected=57.575\n",
      ">predicted=58.166, expected=57.659\n",
      ">predicted=57.921, expected=57.705\n",
      ">predicted=57.854, expected=57.973\n",
      ">predicted=57.837, expected=57.774\n",
      ">predicted=57.763, expected=58.692\n",
      ">predicted=57.933, expected=58.998\n",
      ">predicted=58.159, expected=60.537\n",
      ">predicted=58.663, expected=60.751\n",
      "Test RMSE: 0.776\n"
     ]
    }
   ],
   "source": [
    "#  ARIMA baseline for IBM example stock with rolling window\n",
    "# p = 5 lag terms, d = 2 (degree of differencing), q = 0 (size of moving average window)\n",
    "ibm = pd.Series.from_csv('C:/Users/Owner/Documents/IBM_stock.csv', header=0)\n",
    "ibm.plot()\n",
    "plt.show()\n",
    "X = ibm.values\n",
    "size = len(X) - 150\n",
    "train,test = X[:size], X[size:]\n",
    "history = [i for i in train]\n",
    "predictions = []\n",
    "for t in range(len(test)):\n",
    "    model = ARIMA(history, order=(5,2,0))\n",
    "    model_fit = model.fit(trend='nc', disp=False)\n",
    "    ar_coef, ma_coef = model_fit.arparams, model_fit.maparams\n",
    "    resid = model_fit.resid\n",
    "    diff = difference(history)\n",
    "    yhat = history[-1] + predict(ar_coef, diff) + predict(ma_coef, resid)\n",
    "    predictions.append(yhat)\n",
    "    obs = test[t]\n",
    "    history.append(obs)\n",
    "    print('>predicted=%.3f, expected=%.3f' % (yhat, obs))\n",
    "rmse = sqrt(mean_squared_error(test, predictions))\n",
    "print('Test RMSE: %.3f' % rmse)"
   ]
  },
  {
   "cell_type": "code",
   "execution_count": 8,
   "metadata": {},
   "outputs": [
    {
     "data": {
      "image/png": "[encoded data removed]",
      "text/plain": [
       "<matplotlib.figure.Figure at 0x296afb6a908>"
      ]
     },
     "metadata": {},
     "output_type": "display_data"
    },
    {
     "name": "stdout",
     "output_type": "stream",
     "text": [
      "Test RMSE: 0.533\n"
     ]
    }
   ],
   "source": [
    "plt.plot(test[:50])\n",
    "plt.plot(predictions[0:50], color='red')\n",
    "plt.show()\n",
    "rmse = sqrt(mean_squared_error(test[0:50], predictions[1:51]))\n",
    "print('Test RMSE: %.3f' % rmse)"
   ]
  }
 ],
 "metadata": {
  "kernelspec": {
   "display_name": "Python 3",
   "language": "python",
   "name": "python3"
  },
  "language_info": {
   "codemirror_mode": {
    "name": "ipython",
    "version": 3
   },
   "file_extension": ".py",
   "mimetype": "text/x-python",
   "name": "python",
   "nbconvert_exporter": "python",
   "pygments_lexer": "ipython3",
   "version": "3.6.4"
  }
 },
 "nbformat": 4,
 "nbformat_minor": 2
}
